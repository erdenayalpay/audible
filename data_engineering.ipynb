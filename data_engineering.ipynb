{
 "cells": [
  {
   "cell_type": "code",
   "execution_count": null,
   "metadata": {
    "collapsed": true
   },
   "outputs": [],
   "source": []
  },
  {
   "cell_type": "markdown",
   "metadata": {},
   "source": [
    "<h1><font size=14><center>Data Engineering Part</center></font></h1>\n",
    "First loading the necessary libraries:"
   ]
  },
  {
   "cell_type": "code",
   "execution_count": 3,
   "metadata": {
    "collapsed": true
   },
   "outputs": [],
   "source": [
    "import pandas as pd\n",
    "import urllib.request, json\n",
    "import boto3\n",
    "import os"
   ]
  },
  {
   "cell_type": "markdown",
   "metadata": {},
   "source": [
    "Loading the access and secret access keys in case it is provided by user:"
   ]
  },
  {
   "cell_type": "code",
   "execution_count": 109,
   "metadata": {
    "collapsed": true
   },
   "outputs": [],
   "source": [
    "myvars = {}\n",
    "with open(\"rootkey.csv\") as myfile:\n",
    "    for line in myfile:\n",
    "        name, var = line.partition(\"=\")[::2]\n",
    "        myvars[name.strip()] = var.rstrip()\n",
    "    \n",
    "    os.environ['AWS_ACCESS_KEY_ID'] = myvars['AWSAccessKeyId']\n",
    "    os.environ['AWS_SECRET_ACCESS_KEY'] = myvars['AWSSecretKey']"
   ]
  },
  {
   "cell_type": "markdown",
   "metadata": {},
   "source": [
    "Index listing of available filings are listed in separate JSON and CSV file for each year. Data in CSV contained some other form types than 990, 990EZ, and 990PF, and also unique identifier of the filing seemed not to be right. Therefore, I used JSON files. To get details of the filings, I read each of them, and merged them into one big file:"
   ]
  },
  {
   "cell_type": "code",
   "execution_count": 4,
   "metadata": {},
   "outputs": [
    {
     "name": "stdout",
     "output_type": "stream",
     "text": [
      "2011 203075\n",
      "2012 464697\n",
      "2013 726146\n",
      "2014 1113675\n",
      "2015 1374709\n",
      "2016 1753129\n",
      "2017 2242142\n",
      "2018 2373310\n"
     ]
    }
   ],
   "source": [
    "filings = []\n",
    "for year in ['2011', '2012', '2013', '2014', '2015', '2016', '2017', '2018']:\n",
    "    url_link = 'https://s3.amazonaws.com/irs-form-990/index_'+ year + '.json'\n",
    "    with urllib.request.urlopen(url_link) as url:\n",
    "        filings.extend(json.loads(url.read().decode())['Filings' + year])\n",
    "    print(year, len(filings))"
   ]
  },
  {
   "cell_type": "code",
   "execution_count": null,
   "metadata": {
    "collapsed": true
   },
   "outputs": [],
   "source": [
    "df = pd.DataFrame.from_dict(filings)\n"
   ]
  },
  {
   "cell_type": "code",
   "execution_count": 121,
   "metadata": {
    "scrolled": false
   },
   "outputs": [
    {
     "data": {
      "text/html": [
       "<div>\n",
       "<style>\n",
       "    .dataframe thead tr:only-child th {\n",
       "        text-align: right;\n",
       "    }\n",
       "\n",
       "    .dataframe thead th {\n",
       "        text-align: left;\n",
       "    }\n",
       "\n",
       "    .dataframe tbody tr th {\n",
       "        vertical-align: top;\n",
       "    }\n",
       "</style>\n",
       "<table border=\"1\" class=\"dataframe\">\n",
       "  <thead>\n",
       "    <tr style=\"text-align: right;\">\n",
       "      <th></th>\n",
       "      <th>DLN</th>\n",
       "      <th>EIN</th>\n",
       "      <th>FormType</th>\n",
       "      <th>LastUpdated</th>\n",
       "      <th>ObjectId</th>\n",
       "      <th>OrganizationName</th>\n",
       "      <th>SubmittedOn</th>\n",
       "      <th>TaxPeriod</th>\n",
       "      <th>URL</th>\n",
       "      <th>TaxYear</th>\n",
       "      <th>LatestSubmittedOn</th>\n",
       "      <th>LatestObjectId</th>\n",
       "    </tr>\n",
       "  </thead>\n",
       "  <tbody>\n",
       "    <tr>\n",
       "      <th>0</th>\n",
       "      <td>93493316003251</td>\n",
       "      <td>591971002</td>\n",
       "      <td>990</td>\n",
       "      <td>2016-03-21T17:23:53</td>\n",
       "      <td>201103169349300325</td>\n",
       "      <td>ANGELUS INC</td>\n",
       "      <td>2011-11-30</td>\n",
       "      <td>201009</td>\n",
       "      <td>https://s3.amazonaws.com/irs-form-990/20110316...</td>\n",
       "      <td>2009</td>\n",
       "      <td>2011-11-30</td>\n",
       "      <td>201103169349300325</td>\n",
       "    </tr>\n",
       "    <tr>\n",
       "      <th>1</th>\n",
       "      <td>93493313012311</td>\n",
       "      <td>251713602</td>\n",
       "      <td>990</td>\n",
       "      <td>2016-03-21T17:23:53</td>\n",
       "      <td>201113139349301231</td>\n",
       "      <td>TOUCH-STONE SOLUTIONS INC</td>\n",
       "      <td>2011-11-30</td>\n",
       "      <td>201106</td>\n",
       "      <td>https://s3.amazonaws.com/irs-form-990/20111313...</td>\n",
       "      <td>2010</td>\n",
       "      <td>2011-11-30</td>\n",
       "      <td>201113139349301231</td>\n",
       "    </tr>\n",
       "    <tr>\n",
       "      <th>2</th>\n",
       "      <td>93493313013011</td>\n",
       "      <td>232705170</td>\n",
       "      <td>990</td>\n",
       "      <td>2016-03-21T17:23:53</td>\n",
       "      <td>201113139349301301</td>\n",
       "      <td>RONALD MCDONALD HOUSE CHARITIES- PHILADELPHIA ...</td>\n",
       "      <td>2011-11-30</td>\n",
       "      <td>201012</td>\n",
       "      <td>https://s3.amazonaws.com/irs-form-990/20111313...</td>\n",
       "      <td>2010</td>\n",
       "      <td>2011-11-30</td>\n",
       "      <td>201113139349301301</td>\n",
       "    </tr>\n",
       "    <tr>\n",
       "      <th>3</th>\n",
       "      <td>93493313013111</td>\n",
       "      <td>581805618</td>\n",
       "      <td>990</td>\n",
       "      <td>2016-03-21T17:23:53</td>\n",
       "      <td>201113139349301311</td>\n",
       "      <td>TORRINGTON VOA ELDERLY HOUSING INC BELL PARK T...</td>\n",
       "      <td>2011-11-30</td>\n",
       "      <td>201106</td>\n",
       "      <td>https://s3.amazonaws.com/irs-form-990/20111313...</td>\n",
       "      <td>2010</td>\n",
       "      <td>2011-11-30</td>\n",
       "      <td>201113139349301311</td>\n",
       "    </tr>\n",
       "    <tr>\n",
       "      <th>4</th>\n",
       "      <td>93493313013161</td>\n",
       "      <td>581876019</td>\n",
       "      <td>990</td>\n",
       "      <td>2016-03-21T17:23:53</td>\n",
       "      <td>201113139349301316</td>\n",
       "      <td>HOUSTON VOA INDEPENDENT HOUSING INC HEIGHTS MANOR</td>\n",
       "      <td>2011-11-30</td>\n",
       "      <td>201106</td>\n",
       "      <td>https://s3.amazonaws.com/irs-form-990/20111313...</td>\n",
       "      <td>2010</td>\n",
       "      <td>2011-11-30</td>\n",
       "      <td>201113139349301316</td>\n",
       "    </tr>\n",
       "  </tbody>\n",
       "</table>\n",
       "</div>"
      ],
      "text/plain": [
       "              DLN        EIN FormType          LastUpdated  \\\n",
       "0  93493316003251  591971002      990  2016-03-21T17:23:53   \n",
       "1  93493313012311  251713602      990  2016-03-21T17:23:53   \n",
       "2  93493313013011  232705170      990  2016-03-21T17:23:53   \n",
       "3  93493313013111  581805618      990  2016-03-21T17:23:53   \n",
       "4  93493313013161  581876019      990  2016-03-21T17:23:53   \n",
       "\n",
       "             ObjectId                                   OrganizationName  \\\n",
       "0  201103169349300325                                        ANGELUS INC   \n",
       "1  201113139349301231                          TOUCH-STONE SOLUTIONS INC   \n",
       "2  201113139349301301  RONALD MCDONALD HOUSE CHARITIES- PHILADELPHIA ...   \n",
       "3  201113139349301311  TORRINGTON VOA ELDERLY HOUSING INC BELL PARK T...   \n",
       "4  201113139349301316  HOUSTON VOA INDEPENDENT HOUSING INC HEIGHTS MANOR   \n",
       "\n",
       "  SubmittedOn TaxPeriod                                                URL  \\\n",
       "0  2011-11-30    201009  https://s3.amazonaws.com/irs-form-990/20110316...   \n",
       "1  2011-11-30    201106  https://s3.amazonaws.com/irs-form-990/20111313...   \n",
       "2  2011-11-30    201012  https://s3.amazonaws.com/irs-form-990/20111313...   \n",
       "3  2011-11-30    201106  https://s3.amazonaws.com/irs-form-990/20111313...   \n",
       "4  2011-11-30    201106  https://s3.amazonaws.com/irs-form-990/20111313...   \n",
       "\n",
       "   TaxYear LatestSubmittedOn      LatestObjectId  \n",
       "0     2009        2011-11-30  201103169349300325  \n",
       "1     2010        2011-11-30  201113139349301231  \n",
       "2     2010        2011-11-30  201113139349301301  \n",
       "3     2010        2011-11-30  201113139349301311  \n",
       "4     2010        2011-11-30  201113139349301316  "
      ]
     },
     "execution_count": 121,
     "metadata": {},
     "output_type": "execute_result"
    }
   ],
   "source": [
    "df.head()"
   ]
  },
  {
   "cell_type": "markdown",
   "metadata": {},
   "source": [
    "My observations:\n",
    "- There are 2.4 million filings available so far.\n",
    "- There are 3 types of forms, namely 990, 990EZ, 990PF. Each has different XML structure providing different forms and level of information that can be extracted.\n",
    "- Names of certain tags in XML format changed over the time (from 2012 to 2013). So, tags of each year and each tax form should be assessed.\n",
    "\n",
    "The assignment requires to use free services from AWS to calculate average Year-on-Year revenue (YoY) growth both nationally and by state.\n",
    "\n",
    "Firstly, what is YoY growth? I calculated YoY% as the percentage change of current year revenue compared to the previous year using the following formula:\n",
    "\n",
    "<center>$\\text{YoY} \\% = 100\\%\\frac{\\text{CurrentYearRevenue} - \\text{PreviousYearRevenue}}{\\text{PreviousYearRevenue}}$</center>\n",
    "\n",
    "This has to be calculated for each company, and then values of each filing should be averaged over years nationally and also per state. Therefore, 4 basic information is needed:\n",
    "- State of the company\n",
    "- Tax year of the filing\n",
    "- Current year revenue of the company\n",
    "- Previous year revenue of the company\n",
    "\n",
    "When looking the available tags in 3 different form types:\n",
    "- Form 990 contains both current and previous year revenue in the same form.\n",
    "- Form 990EZ contains only current year revenue.\n",
    "- Form 990PF doesnot contain any revenue information.\n",
    "\n",
    "The following services of AWS are offered freely, and could be useful for this assignment:\n",
    "- AWS Lambda\n",
    "- AWS EC2\n",
    "- AWS S3\n",
    "- AWS DynamoDB\n",
    "- AWS RDS\n",
    "However, the amount of all data to be processed is quite a lot compared to the compute/processing capacity AWS Free Tier offers. For example, lambda can be invoked 1million times, and there are around 2.4 million files that need to be processed. Therefore, I had to put limitation in the analysis, and I had to scope analysis to only 1 year. If the compute power is increased, the same logic, and code be used to processed everything easily. Therefore, the rest of the work concentrates on a certain year of analysis.\n",
    "\n",
    "For calculations, I need both previous and current year revenue info. Form990 can provide both. But Form990EZ can only provide the current year. Actually, this missing info could be derived by finding the company's previous year filing, but in that case the amount of data needs to be processed is going to increase. Therefore, I only scoped to analysis to Form990 only which provides both info in the same file.  \n",
    "\n",
    "Form type is directly available in index files, and the tax year of the filing has to be deduced from the info available in the index file. Year of filing, and the tax period could be the relevant parts for this purpose. Simple guess would say tax year would 1 year before the year of filing. However, this is not true due to either corrections in filings or late filings. Therefore, tax period remains the only source to deduce the tax year in order to filter out the filings of a certain year. How tax period (YYYYMM) translates to tax year (TY) is as follows:\n",
    "- if MM == 12, then TY is YYYY\n",
    "- if MM != 12, then TY is YYYY-1\n",
    "\n",
    "For example, tax year for tax period 201512 is 2015, and 201511 is 2014."
   ]
  },
  {
   "cell_type": "code",
   "execution_count": 6,
   "metadata": {
    "collapsed": true
   },
   "outputs": [],
   "source": [
    "df['TaxYear'] = df['TaxPeriod'].map(lambda x: int(x[0:4]) if x[4:6] == '12' else int(x[0:4])-1)"
   ]
  },
  {
   "cell_type": "code",
   "execution_count": 10,
   "metadata": {},
   "outputs": [
    {
     "data": {
      "text/html": [
       "<div>\n",
       "<style>\n",
       "    .dataframe thead tr:only-child th {\n",
       "        text-align: right;\n",
       "    }\n",
       "\n",
       "    .dataframe thead th {\n",
       "        text-align: left;\n",
       "    }\n",
       "\n",
       "    .dataframe tbody tr th {\n",
       "        vertical-align: top;\n",
       "    }\n",
       "</style>\n",
       "<table border=\"1\" class=\"dataframe\">\n",
       "  <thead>\n",
       "    <tr style=\"text-align: right;\">\n",
       "      <th>TaxYear</th>\n",
       "      <th>2009</th>\n",
       "      <th>2010</th>\n",
       "      <th>2011</th>\n",
       "      <th>2012</th>\n",
       "      <th>2013</th>\n",
       "      <th>2014</th>\n",
       "      <th>2015</th>\n",
       "      <th>2016</th>\n",
       "    </tr>\n",
       "    <tr>\n",
       "      <th>FormType</th>\n",
       "      <th></th>\n",
       "      <th></th>\n",
       "      <th></th>\n",
       "      <th></th>\n",
       "      <th></th>\n",
       "      <th></th>\n",
       "      <th></th>\n",
       "      <th></th>\n",
       "    </tr>\n",
       "  </thead>\n",
       "  <tbody>\n",
       "    <tr>\n",
       "      <th>990</th>\n",
       "      <td>33360</td>\n",
       "      <td>123107</td>\n",
       "      <td>159539</td>\n",
       "      <td>179675</td>\n",
       "      <td>198738</td>\n",
       "      <td>218614</td>\n",
       "      <td>232760</td>\n",
       "      <td>193153</td>\n",
       "    </tr>\n",
       "    <tr>\n",
       "      <th>990EZ</th>\n",
       "      <td>15500</td>\n",
       "      <td>63253</td>\n",
       "      <td>82066</td>\n",
       "      <td>93769</td>\n",
       "      <td>104538</td>\n",
       "      <td>116461</td>\n",
       "      <td>124330</td>\n",
       "      <td>115624</td>\n",
       "    </tr>\n",
       "    <tr>\n",
       "      <th>990PF</th>\n",
       "      <td>2352</td>\n",
       "      <td>25275</td>\n",
       "      <td>34597</td>\n",
       "      <td>39936</td>\n",
       "      <td>45897</td>\n",
       "      <td>53443</td>\n",
       "      <td>58677</td>\n",
       "      <td>58646</td>\n",
       "    </tr>\n",
       "  </tbody>\n",
       "</table>\n",
       "</div>"
      ],
      "text/plain": [
       "TaxYear    2009    2010    2011    2012    2013    2014    2015    2016\n",
       "FormType                                                               \n",
       "990       33360  123107  159539  179675  198738  218614  232760  193153\n",
       "990EZ     15500   63253   82066   93769  104538  116461  124330  115624\n",
       "990PF      2352   25275   34597   39936   45897   53443   58677   58646"
      ]
     },
     "execution_count": 10,
     "metadata": {},
     "output_type": "execute_result"
    }
   ],
   "source": [
    "pd.crosstab(df.FormType, df.TaxYear)"
   ]
  },
  {
   "cell_type": "markdown",
   "metadata": {},
   "source": [
    "The tax years range from 2009 to 2016 given the filing years range from 2011 to 2018. As can be seen from the breakdown of numbers, 2009 and 2016 are not complete yet.\n",
    "\n",
    "Moreover, I expected to have a company had only one filing per form type per tax year per company. However, this was not case as sometimes there are more than one. The reason for this seems to be due to resubmission of corrections in filing at a later time, and filing the same form more than once. So, I cleaned the data considering these facts:"
   ]
  },
  {
   "cell_type": "code",
   "execution_count": 7,
   "metadata": {
    "collapsed": true
   },
   "outputs": [],
   "source": [
    "df['LatestSubmittedOn'] = df.groupby(['ObjectId'])['SubmittedOn'].transform(max)"
   ]
  },
  {
   "cell_type": "code",
   "execution_count": 8,
   "metadata": {
    "collapsed": true
   },
   "outputs": [],
   "source": [
    "df['LatestObjectId'] = df.groupby(['EIN', 'TaxYear', 'FormType'])['ObjectId'].transform(max)"
   ]
  },
  {
   "cell_type": "code",
   "execution_count": null,
   "metadata": {
    "collapsed": true
   },
   "outputs": [],
   "source": [
    "df_updated = df.query(\"SubmittedOn == LatestSubmittedOn\").query(\"ObjectId == LatestObjectId\")"
   ]
  },
  {
   "cell_type": "code",
   "execution_count": 12,
   "metadata": {
    "scrolled": true
   },
   "outputs": [
    {
     "data": {
      "text/html": [
       "<div>\n",
       "<style>\n",
       "    .dataframe thead tr:only-child th {\n",
       "        text-align: right;\n",
       "    }\n",
       "\n",
       "    .dataframe thead th {\n",
       "        text-align: left;\n",
       "    }\n",
       "\n",
       "    .dataframe tbody tr th {\n",
       "        vertical-align: top;\n",
       "    }\n",
       "</style>\n",
       "<table border=\"1\" class=\"dataframe\">\n",
       "  <thead>\n",
       "    <tr style=\"text-align: right;\">\n",
       "      <th>TaxYear</th>\n",
       "      <th>2009</th>\n",
       "      <th>2010</th>\n",
       "      <th>2011</th>\n",
       "      <th>2012</th>\n",
       "      <th>2013</th>\n",
       "      <th>2014</th>\n",
       "      <th>2015</th>\n",
       "      <th>2016</th>\n",
       "    </tr>\n",
       "    <tr>\n",
       "      <th>FormType</th>\n",
       "      <th></th>\n",
       "      <th></th>\n",
       "      <th></th>\n",
       "      <th></th>\n",
       "      <th></th>\n",
       "      <th></th>\n",
       "      <th></th>\n",
       "      <th></th>\n",
       "    </tr>\n",
       "  </thead>\n",
       "  <tbody>\n",
       "    <tr>\n",
       "      <th>990</th>\n",
       "      <td>33050</td>\n",
       "      <td>122077</td>\n",
       "      <td>158108</td>\n",
       "      <td>178128</td>\n",
       "      <td>197114</td>\n",
       "      <td>216584</td>\n",
       "      <td>230910</td>\n",
       "      <td>192303</td>\n",
       "    </tr>\n",
       "    <tr>\n",
       "      <th>990EZ</th>\n",
       "      <td>15465</td>\n",
       "      <td>63069</td>\n",
       "      <td>81813</td>\n",
       "      <td>93446</td>\n",
       "      <td>104173</td>\n",
       "      <td>116023</td>\n",
       "      <td>123885</td>\n",
       "      <td>115335</td>\n",
       "    </tr>\n",
       "    <tr>\n",
       "      <th>990PF</th>\n",
       "      <td>2346</td>\n",
       "      <td>25196</td>\n",
       "      <td>34481</td>\n",
       "      <td>39780</td>\n",
       "      <td>45713</td>\n",
       "      <td>53192</td>\n",
       "      <td>58422</td>\n",
       "      <td>58501</td>\n",
       "    </tr>\n",
       "  </tbody>\n",
       "</table>\n",
       "</div>"
      ],
      "text/plain": [
       "TaxYear    2009    2010    2011    2012    2013    2014    2015    2016\n",
       "FormType                                                               \n",
       "990       33050  122077  158108  178128  197114  216584  230910  192303\n",
       "990EZ     15465   63069   81813   93446  104173  116023  123885  115335\n",
       "990PF      2346   25196   34481   39780   45713   53192   58422   58501"
      ]
     },
     "execution_count": 12,
     "metadata": {},
     "output_type": "execute_result"
    }
   ],
   "source": [
    "pd.crosstab(df_updated.FormType, df_updated.TaxYear)"
   ]
  },
  {
   "cell_type": "markdown",
   "metadata": {},
   "source": [
    "Now, it is time to scrape the data from these urls, and save them either into S3 or DynamoDB. First I wrote the following piece of code to read the xml in the url, and to read the certain tags which give the relevant information, and finally to push them to DynamoDB."
   ]
  },
  {
   "cell_type": "code",
   "execution_count": null,
   "metadata": {
    "collapsed": true
   },
   "outputs": [],
   "source": [
    "# This code goes into lambda function.\n",
    "\n",
    "from xml.etree import ElementTree as ET\n",
    "import urllib.request \n",
    "import boto3\n",
    "import re\n",
    "\n",
    "def lambda_handler(event, context):\n",
    "    \n",
    "    with urllib.request.urlopen(event['url_xml']) as url:\n",
    "        document = url.read().decode()\n",
    "        \n",
    "    document = re.sub(' xmlns=\"[^\"]+\"', '', document, count=1)\n",
    "    \n",
    "    page = ET.fromstring(document)\n",
    "    \n",
    "    tax_yr_path = './ReturnHeader/TaxYear'\n",
    "    ein_path    = './ReturnHeader/Filer/EIN'\n",
    "    state_path  = './ReturnHeader/Filer/USAddress/State'\n",
    "    py_rv_path  = './ReturnData/IRS990/TotalRevenuePriorYear'\n",
    "    cy_rv_path  = './ReturnData/IRS990/TotalRevenueCurrentYear'\n",
    "    bn_path     = './ReturnHeader/Filer/Name/BusinessNameLine1'\n",
    "    \n",
    "    objectID = event['url_xml'].split('/')[-1].split('_')[0]\n",
    "    tax_yr = page.find(tax_yr_path).text\n",
    "    state = page.find(state_path).text\n",
    "    name = page.find(bn_path).text\n",
    "    ein = page.find(ein_path).text\n",
    "    \n",
    "    py_rv = \"0\"\n",
    "    py_rv_node = page.find(py_rv_path)\n",
    "    if py_rv_node is not None:\n",
    "        py_rv = py_rv_node.text\n",
    "    \n",
    "    cy_rv = \"0\"\n",
    "    cy_rv_node = page.find(cy_rv_path)\n",
    "    if cy_rv_node is not None:\n",
    "        cy_rv = cy_rv_node.text\n",
    "    \n",
    "    dynamodb = boto3.resource('dynamodb', region_name = 'us-east-1')\n",
    "    \n",
    "    table = dynamodb.Table('revenues')\n",
    "    table.put_item(\n",
    "        Item={\n",
    "            'ObjectID': objectID,\n",
    "            'TaxYear': int(tax_yr),\n",
    "            'EIN': int(ein),\n",
    "            'State': state,\n",
    "            'BusinessName': name,\n",
    "            'PreviousYear_Revenue': int(py_rv),\n",
    "            'CurrentYear_Revenue': int(cy_rv),\n",
    "        }\n",
    "    )\n",
    "    \n",
    "    return\n"
   ]
  },
  {
   "cell_type": "markdown",
   "metadata": {},
   "source": [
    "Next cell runs over all the urls for a certain tax year, and invoke the lambda function to scrape the data. There is a point that I would like to point out: I first ran a test for year 2009 (which is the smallest set) to check if everything works. The code works just fine, however the whole run was very slow, and it took like 8 hours for approx 50k files to complete. Therefore, I did some test to understand which part is problematic. And it turns out that single asynchronous function invocation takes around 500ms latency to invoke, and come back, and therefore it can only call it around 125 times per minute. I even tried to call a dummy lambda function a couple of thousand times inside another one, but I couldnot go beyond 100ms which I think is still very slow. I checked all possible configuration options in lambda service, but I couldnot go beyond this although it allows 1000 concurrent lambda function invocations. Therefore, I didnot process a bigger batch for tax year 2013 or 2014 as it is going to take more than 24hours. Therefore, I kept the results of 2009, and gave YoY statistics based on 2009."
   ]
  },
  {
   "cell_type": "code",
   "execution_count": 116,
   "metadata": {
    "collapsed": true
   },
   "outputs": [],
   "source": [
    "lamda_client = boto3.client('lambda', region_name = 'us-east-1')"
   ]
  },
  {
   "cell_type": "code",
   "execution_count": 158,
   "metadata": {
    "collapsed": true
   },
   "outputs": [],
   "source": [
    "for url_xml in list(df_updated.query(\"TaxYear == 2009\").query(\"FormType == '990'\").URL):\n",
    "    data = {'url_xml': url_xml}\n",
    "    response = lamda_client.invoke(\n",
    "        FunctionName='scrapeXML',\n",
    "        InvocationType='Event',\n",
    "        Payload= json.dumps(data),\n",
    "    )"
   ]
  },
  {
   "cell_type": "markdown",
   "metadata": {},
   "source": [
    "Data now resides in dynamdb table. I could run EMR service to read and to do aggregations  by directly accessing data on dynamodb, however EMR is not freely available. Therefore, I decided to read the all data back to pandas dataframe, and do aggregations  quickly there."
   ]
  },
  {
   "cell_type": "code",
   "execution_count": 111,
   "metadata": {},
   "outputs": [
    {
     "name": "stdout",
     "output_type": "stream",
     "text": [
      "2018-04-10 00:25:47.166000+02:00\n"
     ]
    }
   ],
   "source": [
    "dynamodb = boto3.resource('dynamodb', region_name='us-east-1')\n",
    "    \n",
    "table = dynamodb.Table('revenues')\n",
    "print(table.creation_date_time)"
   ]
  },
  {
   "cell_type": "markdown",
   "metadata": {},
   "source": [
    "Dynamo doesnot return all data in function call. Therefore, small parts of data should be retrieved recursively, and appended into another list."
   ]
  },
  {
   "cell_type": "code",
   "execution_count": 112,
   "metadata": {
    "scrolled": true
   },
   "outputs": [
    {
     "name": "stdout",
     "output_type": "stream",
     "text": [
      "7508\n",
      "14992\n",
      "22494\n",
      "29987\n",
      "37477\n",
      "44967\n",
      "50825\n"
     ]
    }
   ],
   "source": [
    "items = []\n",
    "\n",
    "response = table.scan()\n",
    "items.extend(response['Items'])\n",
    "print(len(items))\n",
    "\n",
    "while 'LastEvaluatedKey' in response:\n",
    "    response = table.scan(ExclusiveStartKey=response['LastEvaluatedKey'])\n",
    "    items.extend(response['Items'])\n",
    "    print(len(items))"
   ]
  },
  {
   "cell_type": "code",
   "execution_count": 113,
   "metadata": {
    "collapsed": true,
    "scrolled": true
   },
   "outputs": [],
   "source": [
    "df_scraped_data = pd.DataFrame(items)"
   ]
  },
  {
   "cell_type": "markdown",
   "metadata": {},
   "source": [
    "This part returns national average YoY growth:"
   ]
  },
  {
   "cell_type": "code",
   "execution_count": 114,
   "metadata": {},
   "outputs": [
    {
     "data": {
      "text/plain": [
       "TaxYear\n",
       "2009    1565.916845\n",
       "Name: YoY, dtype: float64"
      ]
     },
     "execution_count": 114,
     "metadata": {},
     "output_type": "execute_result"
    }
   ],
   "source": [
    "(df_scraped_data\n",
    " .query(\"TaxYear == 2009 & PreviousYear_Revenue != 0\")\n",
    " .merge(df_updated.query(\"TaxYear == 2009\").query(\"FormType == '990'\")[['ObjectId']], left_on='ObjectID', right_on='ObjectId')\n",
    " .assign(YoY = lambda r: pd.to_numeric(100*(r.CurrentYear_Revenue - r.PreviousYear_Revenue)/r.PreviousYear_Revenue))\n",
    " .groupby('TaxYear')['YoY'].mean()\n",
    ")"
   ]
  },
  {
   "cell_type": "markdown",
   "metadata": {},
   "source": [
    "This part returns average YoY growth by state:"
   ]
  },
  {
   "cell_type": "code",
   "execution_count": 115,
   "metadata": {},
   "outputs": [
    {
     "data": {
      "text/plain": [
       "TaxYear  State\n",
       "2009     AK         138.081261\n",
       "         AL          19.060833\n",
       "         AR           4.274604\n",
       "         AZ          40.320089\n",
       "         CA        9189.569603\n",
       "         CO          30.946305\n",
       "         CT         -52.225394\n",
       "         DC          27.430759\n",
       "         DE          16.152078\n",
       "         FL         -27.896028\n",
       "         GA          -2.992968\n",
       "         HI           2.118341\n",
       "         IA          61.748037\n",
       "         ID           8.299954\n",
       "         IL          11.917956\n",
       "         IN          22.979566\n",
       "         KS        1289.183364\n",
       "         KY          58.489293\n",
       "         LA          24.969474\n",
       "         MA          69.111122\n",
       "         MD         155.874883\n",
       "         ME          24.819283\n",
       "         MI          39.031880\n",
       "         MN          17.964151\n",
       "         MO          70.678746\n",
       "         MS          20.137654\n",
       "         MT          15.524128\n",
       "         NC           7.862190\n",
       "         ND          74.903984\n",
       "         NE       81619.948393\n",
       "         NH          31.721882\n",
       "         NJ          35.449569\n",
       "         NM          -3.479158\n",
       "         NV          14.821725\n",
       "         NY         296.243455\n",
       "         OH          -6.635090\n",
       "         OK          31.549920\n",
       "         OR          64.162684\n",
       "         PA          67.774084\n",
       "         PR           6.808286\n",
       "         RI          36.768846\n",
       "         SC         364.175900\n",
       "         SD          11.991369\n",
       "         TN        1665.935687\n",
       "         TX          59.547087\n",
       "         UT         110.087966\n",
       "         VA         -16.999310\n",
       "         VI         172.986842\n",
       "         VT          -2.665228\n",
       "         WA          27.362167\n",
       "         WI         -26.694339\n",
       "         WV         294.871639\n",
       "         WY          15.435702\n",
       "Name: YoY, dtype: float64"
      ]
     },
     "execution_count": 115,
     "metadata": {},
     "output_type": "execute_result"
    }
   ],
   "source": [
    "(df_scraped_data\n",
    " .query(\"TaxYear == 2009 & PreviousYear_Revenue != 0\")\n",
    " .merge(df_updated.query(\"TaxYear == 2009\").query(\"FormType == '990'\")[['ObjectId']], left_on='ObjectID', right_on='ObjectId')\n",
    " .assign(YoY = lambda r: pd.to_numeric(100*(r.CurrentYear_Revenue - r.PreviousYear_Revenue)/r.PreviousYear_Revenue))\n",
    " .groupby(['TaxYear','State'])['YoY'].mean()\n",
    ")"
   ]
  },
  {
   "cell_type": "markdown",
   "metadata": {},
   "source": [
    "Future Work:\n",
    "- Improve lambda function invocation to process a bigger and complete tax year."
   ]
  }
 ],
 "metadata": {
  "kernelspec": {
   "display_name": "Python 3",
   "language": "python",
   "name": "python3"
  },
  "language_info": {
   "codemirror_mode": {
    "name": "ipython",
    "version": 3
   },
   "file_extension": ".py",
   "mimetype": "text/x-python",
   "name": "python",
   "nbconvert_exporter": "python",
   "pygments_lexer": "ipython3",
   "version": "3.6.3"
  }
 },
 "nbformat": 4,
 "nbformat_minor": 2
}
